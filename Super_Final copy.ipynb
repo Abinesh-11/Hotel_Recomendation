{
  "cells": [
    {
      "cell_type": "markdown",
      "metadata": {
        "id": "AgQovMkCAjYx"
      },
      "source": [
        "## Name       : Abinesh Manivannan\n",
        "## Student Id : MAN22604977"
      ]
    },
    {
      "cell_type": "markdown",
      "metadata": {
        "id": "7DyrRgWwoCHX"
      },
      "source": [
        "# Importing required libraries :"
      ]
    },
    {
      "cell_type": "code",
      "execution_count": 1,
      "metadata": {},
      "outputs": [],
      "source": [
        "import json\n",
        "import torch\n",
        "import spacy\n",
        "import random\n",
        "import spacy.cli\n",
        "import numpy as np\n",
        "import pandas as pd\n",
        "import seaborn as sns\n",
        "import torch.nn as nn\n",
        "import torch.optim as optim\n",
        "import matplotlib.pyplot as plt\n",
        "import torch.nn.functional as F\n",
        "\n",
        "from tqdm import tqdm\n",
        "from spacy import displacy\n",
        "from tabulate import tabulate\n",
        "from torchsummary import summary\n",
        "from torch.nn.utils.rnn import pad_sequence\n",
        "from sklearn.metrics import confusion_matrix\n",
        "from sklearn.preprocessing import LabelEncoder\n",
        "from torch.cuda.amp import GradScaler, autocast\n",
        "from torch.utils.data import Dataset, DataLoader\n",
        "from sklearn.model_selection import train_test_split"
      ]
    },
    {
      "cell_type": "code",
      "execution_count": 2,
      "metadata": {},
      "outputs": [],
      "source": [
        "# Checking if the script is running in colab environment\n",
        "try:\n",
        "    from google.colab import drive\n",
        "    IN_COLAB = True\n",
        "except ImportError:\n",
        "    IN_COLAB = False"
      ]
    },
    {
      "cell_type": "code",
      "execution_count": 3,
      "metadata": {},
      "outputs": [
        {
          "name": "stdout",
          "output_type": "stream",
          "text": [
            "Running the code locally.\n"
          ]
        }
      ],
      "source": [
        "# If not in colab, then have to print \"Running the code locally\"\n",
        "if not(IN_COLAB):\n",
        "  print('Running the code locally.')\n",
        "\n",
        "# If in colab, mounting drive to access files\n",
        "else:\n",
        "  drive.mount('/content/drive')"
      ]
    },
    {
      "cell_type": "code",
      "execution_count": 4,
      "metadata": {},
      "outputs": [
        {
          "name": "stdout",
          "output_type": "stream",
          "text": [
            "Collecting en-core-web-lg==3.7.1\n",
            "  Downloading https://github.com/explosion/spacy-models/releases/download/en_core_web_lg-3.7.1/en_core_web_lg-3.7.1-py3-none-any.whl (587.7 MB)\n",
            "\u001b[2K     \u001b[90m━━━━━━━━━━━━━━━━━━━━━━━━━━━━━━━━━━━━━━━\u001b[0m \u001b[32m587.7/587.7 MB\u001b[0m \u001b[31m3.4 MB/s\u001b[0m eta \u001b[36m0:00:00\u001b[0m00:01\u001b[0m00:02\u001b[0m\n",
            "\u001b[?25hRequirement already satisfied: spacy<3.8.0,>=3.7.2 in ./env/lib/python3.12/site-packages (from en-core-web-lg==3.7.1) (3.7.4)\n",
            "Requirement already satisfied: spacy-legacy<3.1.0,>=3.0.11 in ./env/lib/python3.12/site-packages (from spacy<3.8.0,>=3.7.2->en-core-web-lg==3.7.1) (3.0.12)\n",
            "Requirement already satisfied: spacy-loggers<2.0.0,>=1.0.0 in ./env/lib/python3.12/site-packages (from spacy<3.8.0,>=3.7.2->en-core-web-lg==3.7.1) (1.0.5)\n",
            "Requirement already satisfied: murmurhash<1.1.0,>=0.28.0 in ./env/lib/python3.12/site-packages (from spacy<3.8.0,>=3.7.2->en-core-web-lg==3.7.1) (1.0.10)\n",
            "Requirement already satisfied: cymem<2.1.0,>=2.0.2 in ./env/lib/python3.12/site-packages (from spacy<3.8.0,>=3.7.2->en-core-web-lg==3.7.1) (2.0.8)\n",
            "Requirement already satisfied: preshed<3.1.0,>=3.0.2 in ./env/lib/python3.12/site-packages (from spacy<3.8.0,>=3.7.2->en-core-web-lg==3.7.1) (3.0.9)\n",
            "Requirement already satisfied: thinc<8.3.0,>=8.2.2 in ./env/lib/python3.12/site-packages (from spacy<3.8.0,>=3.7.2->en-core-web-lg==3.7.1) (8.2.3)\n",
            "Requirement already satisfied: wasabi<1.2.0,>=0.9.1 in ./env/lib/python3.12/site-packages (from spacy<3.8.0,>=3.7.2->en-core-web-lg==3.7.1) (1.1.2)\n",
            "Requirement already satisfied: srsly<3.0.0,>=2.4.3 in ./env/lib/python3.12/site-packages (from spacy<3.8.0,>=3.7.2->en-core-web-lg==3.7.1) (2.4.8)\n",
            "Requirement already satisfied: catalogue<2.1.0,>=2.0.6 in ./env/lib/python3.12/site-packages (from spacy<3.8.0,>=3.7.2->en-core-web-lg==3.7.1) (2.0.10)\n",
            "Requirement already satisfied: weasel<0.4.0,>=0.1.0 in ./env/lib/python3.12/site-packages (from spacy<3.8.0,>=3.7.2->en-core-web-lg==3.7.1) (0.3.4)\n",
            "Requirement already satisfied: typer<0.10.0,>=0.3.0 in ./env/lib/python3.12/site-packages (from spacy<3.8.0,>=3.7.2->en-core-web-lg==3.7.1) (0.9.4)\n",
            "Requirement already satisfied: smart-open<7.0.0,>=5.2.1 in ./env/lib/python3.12/site-packages (from spacy<3.8.0,>=3.7.2->en-core-web-lg==3.7.1) (6.4.0)\n",
            "Requirement already satisfied: tqdm<5.0.0,>=4.38.0 in ./env/lib/python3.12/site-packages (from spacy<3.8.0,>=3.7.2->en-core-web-lg==3.7.1) (4.66.2)\n",
            "Requirement already satisfied: requests<3.0.0,>=2.13.0 in ./env/lib/python3.12/site-packages (from spacy<3.8.0,>=3.7.2->en-core-web-lg==3.7.1) (2.31.0)\n",
            "Requirement already satisfied: pydantic!=1.8,!=1.8.1,<3.0.0,>=1.7.4 in ./env/lib/python3.12/site-packages (from spacy<3.8.0,>=3.7.2->en-core-web-lg==3.7.1) (2.6.4)\n",
            "Requirement already satisfied: jinja2 in ./env/lib/python3.12/site-packages (from spacy<3.8.0,>=3.7.2->en-core-web-lg==3.7.1) (3.1.3)\n",
            "Requirement already satisfied: setuptools in ./env/lib/python3.12/site-packages (from spacy<3.8.0,>=3.7.2->en-core-web-lg==3.7.1) (69.2.0)\n",
            "Requirement already satisfied: packaging>=20.0 in ./env/lib/python3.12/site-packages (from spacy<3.8.0,>=3.7.2->en-core-web-lg==3.7.1) (24.0)\n",
            "Requirement already satisfied: langcodes<4.0.0,>=3.2.0 in ./env/lib/python3.12/site-packages (from spacy<3.8.0,>=3.7.2->en-core-web-lg==3.7.1) (3.3.0)\n",
            "Requirement already satisfied: numpy>=1.19.0 in ./env/lib/python3.12/site-packages (from spacy<3.8.0,>=3.7.2->en-core-web-lg==3.7.1) (1.26.4)\n",
            "Requirement already satisfied: annotated-types>=0.4.0 in ./env/lib/python3.12/site-packages (from pydantic!=1.8,!=1.8.1,<3.0.0,>=1.7.4->spacy<3.8.0,>=3.7.2->en-core-web-lg==3.7.1) (0.6.0)\n",
            "Requirement already satisfied: pydantic-core==2.16.3 in ./env/lib/python3.12/site-packages (from pydantic!=1.8,!=1.8.1,<3.0.0,>=1.7.4->spacy<3.8.0,>=3.7.2->en-core-web-lg==3.7.1) (2.16.3)\n",
            "Requirement already satisfied: typing-extensions>=4.6.1 in ./env/lib/python3.12/site-packages (from pydantic!=1.8,!=1.8.1,<3.0.0,>=1.7.4->spacy<3.8.0,>=3.7.2->en-core-web-lg==3.7.1) (4.10.0)\n",
            "Requirement already satisfied: charset-normalizer<4,>=2 in ./env/lib/python3.12/site-packages (from requests<3.0.0,>=2.13.0->spacy<3.8.0,>=3.7.2->en-core-web-lg==3.7.1) (3.3.2)\n",
            "Requirement already satisfied: idna<4,>=2.5 in ./env/lib/python3.12/site-packages (from requests<3.0.0,>=2.13.0->spacy<3.8.0,>=3.7.2->en-core-web-lg==3.7.1) (3.6)\n",
            "Requirement already satisfied: urllib3<3,>=1.21.1 in ./env/lib/python3.12/site-packages (from requests<3.0.0,>=2.13.0->spacy<3.8.0,>=3.7.2->en-core-web-lg==3.7.1) (2.2.1)\n",
            "Requirement already satisfied: certifi>=2017.4.17 in ./env/lib/python3.12/site-packages (from requests<3.0.0,>=2.13.0->spacy<3.8.0,>=3.7.2->en-core-web-lg==3.7.1) (2024.2.2)\n",
            "Requirement already satisfied: blis<0.8.0,>=0.7.8 in ./env/lib/python3.12/site-packages (from thinc<8.3.0,>=8.2.2->spacy<3.8.0,>=3.7.2->en-core-web-lg==3.7.1) (0.7.11)\n",
            "Requirement already satisfied: confection<1.0.0,>=0.0.1 in ./env/lib/python3.12/site-packages (from thinc<8.3.0,>=8.2.2->spacy<3.8.0,>=3.7.2->en-core-web-lg==3.7.1) (0.1.4)\n",
            "Requirement already satisfied: click<9.0.0,>=7.1.1 in ./env/lib/python3.12/site-packages (from typer<0.10.0,>=0.3.0->spacy<3.8.0,>=3.7.2->en-core-web-lg==3.7.1) (8.1.7)\n",
            "Requirement already satisfied: cloudpathlib<0.17.0,>=0.7.0 in ./env/lib/python3.12/site-packages (from weasel<0.4.0,>=0.1.0->spacy<3.8.0,>=3.7.2->en-core-web-lg==3.7.1) (0.16.0)\n",
            "Requirement already satisfied: MarkupSafe>=2.0 in ./env/lib/python3.12/site-packages (from jinja2->spacy<3.8.0,>=3.7.2->en-core-web-lg==3.7.1) (2.1.5)\n",
            "\u001b[38;5;2m✔ Download and installation successful\u001b[0m\n",
            "You can now load the package via spacy.load('en_core_web_lg')\n",
            "\u001b[38;5;3m⚠ Restart to reload dependencies\u001b[0m\n",
            "If you are in a Jupyter or Colab notebook, you may need to restart Python in\n",
            "order to load all the package's dependencies. You can do this by selecting the\n",
            "'Restart kernel' or 'Restart runtime' option.\n"
          ]
        }
      ],
      "source": [
        "# Downloading the English model from spaCy\n",
        "spacy.cli.download(\"en_core_web_lg\")\n",
        "nlp = spacy.load(\"en_core_web_lg\")"
      ]
    },
    {
      "cell_type": "code",
      "execution_count": 5,
      "metadata": {},
      "outputs": [],
      "source": [
        "# If not in colab, reading the dataset from local file\n",
        "if not IN_COLAB:\n",
        "    dataset = pd.read_csv(\"hotels.csv\", encoding='latin-1')\n",
        "\n",
        "# If in colab, resding the dataset from drive\n",
        "else:\n",
        "    dataset = pd.read_csv(\"/content/drive/MyDrive/hotels.csv\", encoding='latin-1')"
      ]
    },
    {
      "cell_type": "markdown",
      "metadata": {},
      "source": [
        "# Pre-processing :"
      ]
    },
    {
      "cell_type": "code",
      "execution_count": 6,
      "metadata": {},
      "outputs": [],
      "source": [
        "# Copying the dataset\n",
        "data1 = dataset.copy()"
      ]
    },
    {
      "cell_type": "code",
      "execution_count": 7,
      "metadata": {},
      "outputs": [],
      "source": [
        "# Droping unnecessary columns\n",
        "data1.drop(columns=['countyCode',' cityCode',' HotelCode',' Attractions'], inplace = True)"
      ]
    },
    {
      "cell_type": "code",
      "execution_count": 8,
      "metadata": {},
      "outputs": [],
      "source": [
        "# Randomising the dataframe 'data'\n",
        "data = data1.sample(frac=1, random_state=42) \n",
        "\n",
        "# Select the first 20,000 rows\n",
        "data = data.head(20000)"
      ]
    },
    {
      "cell_type": "code",
      "execution_count": 9,
      "metadata": {},
      "outputs": [],
      "source": [
        "# Convert the list of dictionaries to a DataFrame\n",
        "save_data = pd.DataFrame(data)\n",
        "\n",
        "# Specify the file path where you want to save the CSV file\n",
        "file_path = 'hotels_20000.csv'\n",
        "\n",
        "# Write the DataFrame to a CSV file\n",
        "save_data.to_csv(file_path, index=False) "
      ]
    },
    {
      "cell_type": "markdown",
      "metadata": {},
      "source": [
        "### Label Encoding :"
      ]
    },
    {
      "cell_type": "code",
      "execution_count": 10,
      "metadata": {},
      "outputs": [
        {
          "name": "stdout",
          "output_type": "stream",
          "text": [
            "Encoded ratings mapping: {0: 'All', 1: 'FiveStar', 2: 'FourStar', 3: 'OneStar', 4: 'ThreeStar', 5: 'TwoStar'}\n"
          ]
        }
      ],
      "source": [
        "# Labelencoding the column 'HotelRating'\n",
        "label_encoder = LabelEncoder()\n",
        "\n",
        "data[' HotelRating'] = label_encoder.fit_transform(data[' HotelRating'])\n",
        "\n",
        "rating_mapping = {index: label for index, label in enumerate(label_encoder.classes_)}\n",
        "print(\"Encoded ratings mapping:\", rating_mapping)"
      ]
    },
    {
      "cell_type": "markdown",
      "metadata": {},
      "source": [
        "### Custom Mapping : "
      ]
    },
    {
      "cell_type": "code",
      "execution_count": 11,
      "metadata": {},
      "outputs": [
        {
          "name": "stdout",
          "output_type": "stream",
          "text": [
            "Encoded ratings mapping: {0: 'All', 1: 'OneStar', 2: 'TwoStar', 3: 'ThreeStar', 4: 'FourStar', 5: 'FiveStar'}\n"
          ]
        }
      ],
      "source": [
        "# As it is not appropiate to the values. So custom mapping to map the appropiate one\n",
        "custom_mapping = {'All': 0, 'OneStar': 1, 'TwoStar': 2, 'ThreeStar': 3, 'FourStar': 4, 'FiveStar': 5}\n",
        "\n",
        "data[' HotelRating'] = data[' HotelRating'].replace(custom_mapping)\n",
        "\n",
        "reverse_mapping = {value: key for key, value in custom_mapping.items()}\n",
        "print(\"Encoded ratings mapping:\", reverse_mapping)"
      ]
    },
    {
      "cell_type": "code",
      "execution_count": 12,
      "metadata": {},
      "outputs": [],
      "source": [
        "data.columns = map(lambda x: x.lower().strip(), data.columns)"
      ]
    },
    {
      "cell_type": "code",
      "execution_count": 13,
      "metadata": {},
      "outputs": [
        {
          "data": {
            "text/html": [
              "<span class=\"tex2jax_ignore\"><div class=\"entities\" style=\"line-height: 2.5; direction: ltr\">&lt;p&gt;HeadLine : Near Place de la Reunion&lt;/p&gt;&lt;p&gt;Location : With a stay at this apartment in \n",
              "<mark class=\"entity\" style=\"background: #feca74; padding: 0.45em 0.6em; margin: 0 0.25em; line-height: 1; border-radius: 0.35em;\">\n",
              "    Mulhouse\n",
              "    <span style=\"font-size: 0.8em; font-weight: bold; line-height: 1; border-radius: 0.35em; vertical-align: middle; margin-left: 0.5rem\">GPE</span>\n",
              "</mark>\n",
              ", you ll be within a \n",
              "<mark class=\"entity\" style=\"background: #bfe1d9; padding: 0.45em 0.6em; margin: 0 0.25em; line-height: 1; border-radius: 0.35em;\">\n",
              "    10-minute\n",
              "    <span style=\"font-size: 0.8em; font-weight: bold; line-height: 1; border-radius: 0.35em; vertical-align: middle; margin-left: 0.5rem\">TIME</span>\n",
              "</mark>\n",
              " walk of \n",
              "<mark class=\"entity\" style=\"background: #9cc9cc; padding: 0.45em 0.6em; margin: 0 0.25em; line-height: 1; border-radius: 0.35em;\">\n",
              "    Place de la Reunion\n",
              "    <span style=\"font-size: 0.8em; font-weight: bold; line-height: 1; border-radius: 0.35em; vertical-align: middle; margin-left: 0.5rem\">FAC</span>\n",
              "</mark>\n",
              " and \n",
              "<mark class=\"entity\" style=\"background: #9cc9cc; padding: 0.45em 0.6em; margin: 0 0.25em; line-height: 1; border-radius: 0.35em;\">\n",
              "    Temple Saint Etienne\n",
              "    <span style=\"font-size: 0.8em; font-weight: bold; line-height: 1; border-radius: 0.35em; vertical-align: middle; margin-left: 0.5rem\">FAC</span>\n",
              "</mark>\n",
              ".  This apartment is \n",
              "<mark class=\"entity\" style=\"background: #e4e7d2; padding: 0.45em 0.6em; margin: 0 0.25em; line-height: 1; border-radius: 0.35em;\">\n",
              "    0.5 mi\n",
              "    <span style=\"font-size: 0.8em; font-weight: bold; line-height: 1; border-radius: 0.35em; vertical-align: middle; margin-left: 0.5rem\">PERCENT</span>\n",
              "</mark>\n",
              " (\n",
              "<mark class=\"entity\" style=\"background: #e4e7d2; padding: 0.45em 0.6em; margin: 0 0.25em; line-height: 1; border-radius: 0.35em;\">\n",
              "    0.8 km\n",
              "    <span style=\"font-size: 0.8em; font-weight: bold; line-height: 1; border-radius: 0.35em; vertical-align: middle; margin-left: 0.5rem\">QUANTITY</span>\n",
              "</mark>\n",
              ") from \n",
              "<mark class=\"entity\" style=\"background: #9cc9cc; padding: 0.45em 0.6em; margin: 0 0.25em; line-height: 1; border-radius: 0.35em;\">\n",
              "    Mulhouse Hotel de Ville\n",
              "    <span style=\"font-size: 0.8em; font-weight: bold; line-height: 1; border-radius: 0.35em; vertical-align: middle; margin-left: 0.5rem\">FAC</span>\n",
              "</mark>\n",
              " and \n",
              "<mark class=\"entity\" style=\"background: #e4e7d2; padding: 0.45em 0.6em; margin: 0 0.25em; line-height: 1; border-radius: 0.35em;\">\n",
              "    0.9 mi\n",
              "    <span style=\"font-size: 0.8em; font-weight: bold; line-height: 1; border-radius: 0.35em; vertical-align: middle; margin-left: 0.5rem\">QUANTITY</span>\n",
              "</mark>\n",
              " (\n",
              "<mark class=\"entity\" style=\"background: #e4e7d2; padding: 0.45em 0.6em; margin: 0 0.25em; line-height: 1; border-radius: 0.35em;\">\n",
              "    1.5 km\n",
              "    <span style=\"font-size: 0.8em; font-weight: bold; line-height: 1; border-radius: 0.35em; vertical-align: middle; margin-left: 0.5rem\">QUANTITY</span>\n",
              "</mark>\n",
              ") from \n",
              "<mark class=\"entity\" style=\"background: #7aecec; padding: 0.45em 0.6em; margin: 0 0.25em; line-height: 1; border-radius: 0.35em;\">\n",
              "    Musee de l Impression sur Etoffes.&lt;/p&gt;&lt;p&gt;Rooms\n",
              "    <span style=\"font-size: 0.8em; font-weight: bold; line-height: 1; border-radius: 0.35em; vertical-align: middle; margin-left: 0.5rem\">ORG</span>\n",
              "</mark>\n",
              " : Make yourself comfortable in this apartment, featuring a kitchenette with a refrigerator and a stovetop. A flat-screen television with digital programming provides entertainment, while complimentary wireless Internet access keeps you connected. Conveniences include a desk and a separate sitting area.&lt;/p&gt;&lt;p&gt;CheckIn Instructions : Extra-person charges may apply and vary depending on property policy Government-issued photo identification and a credit card may be required at check-in for incidental charges Special requests are subject to availability upon check-in and may incur additional charges; special requests cannot be guaranteed No onsite parking is available This property accepts credit cards; cash is not accepted \n",
              "<mark class=\"entity\" style=\"background: #7aecec; padding: 0.45em 0.6em; margin: 0 0.25em; line-height: 1; border-radius: 0.35em;\">\n",
              "    Safety\n",
              "    <span style=\"font-size: 0.8em; font-weight: bold; line-height: 1; border-radius: 0.35em; vertical-align: middle; margin-left: 0.5rem\">ORG</span>\n",
              "</mark>\n",
              " features at this property include a smoke detector&lt;/p&gt;&lt;p&gt;Special Instructions : There is no front desk at this property. Guests can access their accommodation through a private \n",
              "<mark class=\"entity\" style=\"background: #7aecec; padding: 0.45em 0.6em; margin: 0 0.25em; line-height: 1; border-radius: 0.35em;\">\n",
              "    entrance.&lt;/p\n",
              "    <span style=\"font-size: 0.8em; font-weight: bold; line-height: 1; border-radius: 0.35em; vertical-align: middle; margin-left: 0.5rem\">ORG</span>\n",
              "</mark>\n",
              "&gt;</div></span>"
            ],
            "text/plain": [
              "<IPython.core.display.HTML object>"
            ]
          },
          "metadata": {},
          "output_type": "display_data"
        }
      ],
      "source": [
        "# Selecting random description from the dataset\n",
        "doc = nlp(np.random.choice(data['description']))\n",
        "\n",
        "# Vizualizing the named entities from the processed description\n",
        "displacy.render(doc, style='ent', jupyter=True, options={'distance': 120})"
      ]
    },
    {
      "cell_type": "markdown",
      "metadata": {},
      "source": [
        "### Tokenization : "
      ]
    },
    {
      "cell_type": "code",
      "execution_count": 14,
      "metadata": {},
      "outputs": [],
      "source": [
        "# Data cleaning: fill NaNs and convert to string\n",
        "data['description'] = data['description'].fillna('missing')\n",
        "data['description'] = data['description'].astype(str)"
      ]
    },
    {
      "cell_type": "code",
      "execution_count": 15,
      "metadata": {},
      "outputs": [],
      "source": [
        "# Data cleaning: fill NaNs and convert to string\n",
        "data['hotelfacilities'] = data['hotelfacilities'].fillna('missing')\n",
        "data['hotelfacilities'] = data['hotelfacilities'].astype(str)"
      ]
    },
    {
      "cell_type": "code",
      "execution_count": 16,
      "metadata": {},
      "outputs": [],
      "source": [
        "# Tokenization and vocabulary building\n",
        "def tokenize(text):\n",
        "    doc = nlp(text.lower())\n",
        "    return [token.text for token in doc if not token.is_stop and not token.is_punct and token.text.strip()]"
      ]
    },
    {
      "cell_type": "code",
      "execution_count": 17,
      "metadata": {},
      "outputs": [],
      "source": [
        "# Assuming data is your DataFrame\n",
        "data['tokenized'] = data['description'].apply(tokenize)"
      ]
    },
    {
      "cell_type": "code",
      "execution_count": 18,
      "metadata": {},
      "outputs": [],
      "source": [
        "data['tokenized'] = data['hotelfacilities'].apply(tokenize)"
      ]
    },
    {
      "cell_type": "code",
      "execution_count": 19,
      "metadata": {},
      "outputs": [
        {
          "data": {
            "text/html": [
              "<div>\n",
              "<style scoped>\n",
              "    .dataframe tbody tr th:only-of-type {\n",
              "        vertical-align: middle;\n",
              "    }\n",
              "\n",
              "    .dataframe tbody tr th {\n",
              "        vertical-align: top;\n",
              "    }\n",
              "\n",
              "    .dataframe thead th {\n",
              "        text-align: right;\n",
              "    }\n",
              "</style>\n",
              "<table border=\"1\" class=\"dataframe\">\n",
              "  <thead>\n",
              "    <tr style=\"text-align: right;\">\n",
              "      <th></th>\n",
              "      <th>countyname</th>\n",
              "      <th>cityname</th>\n",
              "      <th>hotelname</th>\n",
              "      <th>hotelrating</th>\n",
              "      <th>address</th>\n",
              "      <th>description</th>\n",
              "      <th>faxnumber</th>\n",
              "      <th>hotelfacilities</th>\n",
              "      <th>map</th>\n",
              "      <th>phonenumber</th>\n",
              "      <th>pincode</th>\n",
              "      <th>hotelwebsiteurl</th>\n",
              "      <th>tokenized</th>\n",
              "    </tr>\n",
              "  </thead>\n",
              "  <tbody>\n",
              "    <tr>\n",
              "      <th>484636</th>\n",
              "      <td>Italy</td>\n",
              "      <td>San Lorenzo al Mare</td>\n",
              "      <td>Hotel Riviera dei Fiori</td>\n",
              "      <td>2</td>\n",
              "      <td>Via Aurelia 3 18017 San Lorenzo al MareImperia</td>\n",
              "      <td>&lt;p&gt;HeadLine : Near Spiaggia della Marina&lt;/p&gt;&lt;p...</td>\n",
              "      <td>39-0183-930 125</td>\n",
              "      <td>Garden Free newspapers in lobby Full-service s...</td>\n",
              "      <td>43.860659|7.969613</td>\n",
              "      <td>39-0183-745 100</td>\n",
              "      <td>18017</td>\n",
              "      <td>http://www.hotelrivieradeifiori.it/de/</td>\n",
              "      <td>[garden, free, newspapers, lobby, service, spa...</td>\n",
              "    </tr>\n",
              "    <tr>\n",
              "      <th>73433</th>\n",
              "      <td>Austria</td>\n",
              "      <td>Zillertal</td>\n",
              "      <td>Sport und Wellnesshotel Held</td>\n",
              "      <td>2</td>\n",
              "      <td>Kleinbodenerstraße 6 6263 FügenZillertal</td>\n",
              "      <td>&lt;p&gt;HeadLine : Near Erlebnistherme Zillertal&lt;/p...</td>\n",
              "      <td>43-528-8623867</td>\n",
              "      <td>Wheelchair accessible (may have limitations) W...</td>\n",
              "      <td>47.334929|11.855272</td>\n",
              "      <td>43-528-862386</td>\n",
              "      <td>6263</td>\n",
              "      <td>http://www.held.at/</td>\n",
              "      <td>[wheelchair, accessible, limitations, wheelcha...</td>\n",
              "    </tr>\n",
              "    <tr>\n",
              "      <th>457185</th>\n",
              "      <td>Italy</td>\n",
              "      <td>Mazara del Vallo</td>\n",
              "      <td>Sud 12 Ville sul Mediterraneo</td>\n",
              "      <td>3</td>\n",
              "      <td>Via Formia 50 91026 Mazara del ValloSicily</td>\n",
              "      <td>&lt;p&gt;HeadLine : Near Tonnarella&lt;/p&gt;&lt;p&gt;Location :...</td>\n",
              "      <td>011-39-3407377658</td>\n",
              "      <td>Private beach nearby Lockers available Handrai...</td>\n",
              "      <td>37.660746|12.569689</td>\n",
              "      <td>011-39-3407377658</td>\n",
              "      <td>91026</td>\n",
              "      <td>http://www.sud12.it</td>\n",
              "      <td>[private, beach, nearby, lockers, available, h...</td>\n",
              "    </tr>\n",
              "    <tr>\n",
              "      <th>832995</th>\n",
              "      <td>United Kingdom</td>\n",
              "      <td>Leith</td>\n",
              "      <td>Home By Leiths Shore</td>\n",
              "      <td>4</td>\n",
              "      <td>Maritime Street</td>\n",
              "      <td>&lt;p&gt;HeadLine : In Edinburgh (Leith)&lt;/p&gt;&lt;p&gt;Locat...</td>\n",
              "      <td>NaN</td>\n",
              "      <td>Free wired Internet Smoke-free property Multil...</td>\n",
              "      <td>55.974407|-3.168609</td>\n",
              "      <td>44-7441909799</td>\n",
              "      <td>EH6 6SA</td>\n",
              "      <td>NaN</td>\n",
              "      <td>[free, wired, internet, smoke, free, property,...</td>\n",
              "    </tr>\n",
              "    <tr>\n",
              "      <th>87611</th>\n",
              "      <td>Brazil</td>\n",
              "      <td>Bombinhas</td>\n",
              "      <td>Cobertura Costa Do Sol</td>\n",
              "      <td>0</td>\n",
              "      <td>1860 Avenida Aroeira Da Praia</td>\n",
              "      <td>Situated in Bombinhas and only 60 metres from ...</td>\n",
              "      <td>NaN</td>\n",
              "      <td>Parking Pets allowed Free parking internet ser...</td>\n",
              "      <td>-27.18331|-48.50056</td>\n",
              "      <td>NaN</td>\n",
              "      <td>88215 000</td>\n",
              "      <td>https://www.booking.com/hotel/br/cobertura-cos...</td>\n",
              "      <td>[parking, pets, allowed, free, parking, intern...</td>\n",
              "    </tr>\n",
              "  </tbody>\n",
              "</table>\n",
              "</div>"
            ],
            "text/plain": [
              "            countyname             cityname                      hotelname  \\\n",
              "484636           Italy  San Lorenzo al Mare        Hotel Riviera dei Fiori   \n",
              "73433          Austria            Zillertal   Sport und Wellnesshotel Held   \n",
              "457185           Italy     Mazara del Vallo  Sud 12 Ville sul Mediterraneo   \n",
              "832995  United Kingdom                Leith           Home By Leiths Shore   \n",
              "87611           Brazil            Bombinhas         Cobertura Costa Do Sol   \n",
              "\n",
              "        hotelrating                                          address  \\\n",
              "484636            2  Via Aurelia 3 18017 San Lorenzo al MareImperia    \n",
              "73433             2        Kleinbodenerstraße 6 6263 FügenZillertal    \n",
              "457185            3      Via Formia 50 91026 Mazara del ValloSicily    \n",
              "832995            4                                Maritime Street     \n",
              "87611             0                  1860 Avenida Aroeira Da Praia     \n",
              "\n",
              "                                              description          faxnumber  \\\n",
              "484636  <p>HeadLine : Near Spiaggia della Marina</p><p...    39-0183-930 125   \n",
              "73433   <p>HeadLine : Near Erlebnistherme Zillertal</p...     43-528-8623867   \n",
              "457185  <p>HeadLine : Near Tonnarella</p><p>Location :...  011-39-3407377658   \n",
              "832995  <p>HeadLine : In Edinburgh (Leith)</p><p>Locat...                NaN   \n",
              "87611   Situated in Bombinhas and only 60 metres from ...                NaN   \n",
              "\n",
              "                                          hotelfacilities  \\\n",
              "484636  Garden Free newspapers in lobby Full-service s...   \n",
              "73433   Wheelchair accessible (may have limitations) W...   \n",
              "457185  Private beach nearby Lockers available Handrai...   \n",
              "832995  Free wired Internet Smoke-free property Multil...   \n",
              "87611   Parking Pets allowed Free parking internet ser...   \n",
              "\n",
              "                        map        phonenumber    pincode  \\\n",
              "484636   43.860659|7.969613    39-0183-745 100      18017   \n",
              "73433   47.334929|11.855272      43-528-862386       6263   \n",
              "457185  37.660746|12.569689  011-39-3407377658      91026   \n",
              "832995  55.974407|-3.168609      44-7441909799    EH6 6SA   \n",
              "87611   -27.18331|-48.50056                NaN  88215 000   \n",
              "\n",
              "                                          hotelwebsiteurl  \\\n",
              "484636             http://www.hotelrivieradeifiori.it/de/   \n",
              "73433                                 http://www.held.at/   \n",
              "457185                                http://www.sud12.it   \n",
              "832995                                                NaN   \n",
              "87611   https://www.booking.com/hotel/br/cobertura-cos...   \n",
              "\n",
              "                                                tokenized  \n",
              "484636  [garden, free, newspapers, lobby, service, spa...  \n",
              "73433   [wheelchair, accessible, limitations, wheelcha...  \n",
              "457185  [private, beach, nearby, lockers, available, h...  \n",
              "832995  [free, wired, internet, smoke, free, property,...  \n",
              "87611   [parking, pets, allowed, free, parking, intern...  "
            ]
          },
          "execution_count": 19,
          "metadata": {},
          "output_type": "execute_result"
        }
      ],
      "source": [
        "data.head()"
      ]
    },
    {
      "cell_type": "code",
      "execution_count": 21,
      "metadata": {},
      "outputs": [
        {
          "data": {
            "image/png": "[encoded data removed]",
            "text/plain": [
              "<Figure size 800x800 with 1 Axes>"
            ]
          },
          "metadata": {},
          "output_type": "display_data"
        }
      ],
      "source": [
        "import matplotlib.pyplot as plt\n",
        "\n",
        "# Counting the frequency of each rating\n",
        "rating_counts = data['hotelrating'].value_counts()\n",
        "\n",
        "# Mapping numerical ratings to textual labels\n",
        "rating_labels = {0: 'All', 1: 'OneStar', 2: 'TwoStar', 3: 'ThreeStar', 4: 'FourStar', 5: 'FiveStar'}\n",
        "\n",
        "# Define a list of colors\n",
        "colors = ['#ff9999','#66b3ff','#99ff99','#ffcc99', '#c2c2f0','#ffb3e6']\n",
        "\n",
        "# Using a Matplotlib colormap\n",
        "# You can uncomment the next line to see how it applies a colormap\n",
        "# colors = plt.cm.Pastel1.colors[:len(rating_counts)]\n",
        "\n",
        "plt.figure(figsize=(8, 8))\n",
        "plt.pie(rating_counts, labels=[rating_labels[rating] for rating in rating_counts.index], autopct='%1.1f%%', startangle=140, colors=colors)\n",
        "plt.title('Rating Distribution of the Hotels')\n",
        "plt.axis('equal')  # Equal aspect ratio ensures that pie is drawn as a circle.\n",
        "plt.show()"
      ]
    },
    {
      "cell_type": "code",
      "execution_count": 22,
      "metadata": {},
      "outputs": [],
      "source": [
        "# Building vocabulary function\n",
        "def build_vocab(tokenized_texts):\n",
        "    vocab = {}\n",
        "    idx = 0\n",
        "    \n",
        "    # Loop through each list of tokens in the tokenized_texts.\n",
        "    for tokens in tokenized_texts:\n",
        "        for token in tokens:\n",
        "            if token not in vocab:\n",
        "                vocab[token] = idx\n",
        "                idx += 1\n",
        "    # Return the completed vocabulary dictionary.            \n",
        "    return vocab\n",
        "\n",
        "vocab = build_vocab(data['tokenized'])"
      ]
    },
    {
      "cell_type": "code",
      "execution_count": null,
      "metadata": {},
      "outputs": [],
      "source": [
        "import os\n",
        "\n",
        "# Function to build vocabulary\n",
        "def build_vocab(tokenized_texts):\n",
        "    vocab = {}\n",
        "    idx = 0\n",
        "    for tokens in tokenized_texts:\n",
        "        for token in tokens:\n",
        "            if token not in vocab:\n",
        "                vocab[token] = idx\n",
        "                idx += 1\n",
        "    return vocab\n",
        "\n",
        "# Function to save the vocabulary to a JSON file\n",
        "def save_vocab_to_json(vocab, filepath):\n",
        "    # Check if the directory exists before saving\n",
        "    directory = os.path.dirname(filepath)\n",
        "    if not os.path.exists(directory):\n",
        "        os.makedirs(directory)  # Create the directory if it does not exist\n",
        "    \n",
        "    with open(filepath, 'w', encoding='utf-8') as f:\n",
        "        json.dump(vocab, f, ensure_ascii=False, indent=4)\n",
        "\n",
        "# Assuming 'data['tokenized']' is available from your dataset processing\n",
        "vocab = build_vocab(data['tokenized'])\n",
        "\n",
        "# Save the vocabulary to a JSON file\n",
        "vocab_file_path = 'data/vocab.json'\n",
        "save_vocab_to_json(vocab, vocab_file_path)"
      ]
    },
    {
      "cell_type": "code",
      "execution_count": 23,
      "metadata": {},
      "outputs": [],
      "source": [
        "# # GloVe embedding loading and embedding matrix creation functions\n",
        "# def load_embeddings(path):\n",
        "#     embeddings_index = {}\n",
        "#     with open(path, 'r', encoding='utf-8') as f:\n",
        "#         for line in f:\n",
        "#             parts = line.split()\n",
        "#             word = parts[0]\n",
        "#             vector_parts = parts[1:]\n",
        "#             try:\n",
        "#                 coefs = np.asarray(vector_parts, dtype='float32')\n",
        "#                 embeddings_index[word] = coefs\n",
        "#             except ValueError:\n",
        "#                 print(f\"Error converting the following parts to floats: {vector_parts}\")\n",
        "#     return embeddings_index\n",
        "\n",
        "# Loading GloVe embedding and embedding matrix creation functions\n",
        "def load_embeddings(path):\n",
        "    embeddings_index = {}\n",
        "    errors = 0\n",
        "    with open(path, 'r', encoding='utf-8') as f:\n",
        "        for line in f:\n",
        "            parts = line.split()\n",
        "            word = parts[0]\n",
        "            vector_parts = parts[1:]\n",
        "            try:\n",
        "                coefs = np.asarray(vector_parts, dtype='float32')\n",
        "                embeddings_index[word] = coefs\n",
        "            except ValueError:\n",
        "                errors += 1  # Increment the error count\n",
        "    if errors > 0:\n",
        "        print(f\"Skipped {errors} lines with formatting issues.\")\n",
        "    return embeddings_index\n"
      ]
    },
    {
      "cell_type": "code",
      "execution_count": 24,
      "metadata": {},
      "outputs": [],
      "source": [
        "# Embedding Matrix Creation for NLP Models\n",
        "def create_embedding_matrix(word_index, embeddings_index, embedding_dim):\n",
        "    embedding_matrix = np.zeros((len(word_index) + 1, embedding_dim))\n",
        "\n",
        "    # Iterating over the word_index dictionary\n",
        "    for word, i in word_index.items():\n",
        "        embedding_vector = embeddings_index.get(word)\n",
        "        if embedding_vector is not None:\n",
        "            embedding_matrix[i] = embedding_vector\n",
        "    return embedding_matrix"
      ]
    },
    {
      "cell_type": "code",
      "execution_count": 25,
      "metadata": {},
      "outputs": [
        {
          "name": "stdout",
          "output_type": "stream",
          "text": [
            "Skipped 20 lines with formatting issues.\n"
          ]
        }
      ],
      "source": [
        "# Loading pre-trained embeddings from a file\n",
        "embeddings_index = load_embeddings('glove.840B.300d.txt')\n",
        "embedding_dim = 300\n",
        "\n",
        "# Creating an embedding matrix using the vocabulary from a model and the loaded embeddings.\n",
        "embedding_matrix = create_embedding_matrix(vocab, embeddings_index, embedding_dim)\n",
        "pretrained_embeddings = torch.tensor(embedding_matrix, dtype=torch.float32)"
      ]
    },
    {
      "cell_type": "code",
      "execution_count": 26,
      "metadata": {},
      "outputs": [],
      "source": [
        "# Setting up for training\n",
        "class HotelDataset(Dataset):\n",
        "    def __init__(self, texts, labels):\n",
        "        self.texts = [torch.tensor(text) for text in texts]  # Converting texts to tensors\n",
        "        self.labels = torch.tensor(labels)\n",
        "\n",
        "    def __len__(self):\n",
        "        return len(self.labels)\n",
        "\n",
        "    def __getitem__(self, idx):\n",
        "        return self.texts[idx], self.labels[idx]"
      ]
    },
    {
      "cell_type": "code",
      "execution_count": 27,
      "metadata": {},
      "outputs": [],
      "source": [
        "# Creating datasets and dataloaders\n",
        "texts = list(map(lambda x: [vocab.get(word, 0) for word in x], data['tokenized']))\n",
        "labels = data['hotelrating'].values"
      ]
    },
    {
      "cell_type": "code",
      "execution_count": 28,
      "metadata": {},
      "outputs": [
        {
          "name": "stderr",
          "output_type": "stream",
          "text": [
            "/var/folders/sd/6m81mt411jxfsqsc4d3ctrg40000gn/T/ipykernel_2064/164197450.py:4: UserWarning: To copy construct from a tensor, it is recommended to use sourceTensor.clone().detach() or sourceTensor.clone().detach().requires_grad_(True), rather than torch.tensor(sourceTensor).\n",
            "  self.texts = [torch.tensor(text) for text in texts]  # Convert texts to tensors\n",
            "/var/folders/sd/6m81mt411jxfsqsc4d3ctrg40000gn/T/ipykernel_2064/164197450.py:5: UserWarning: To copy construct from a tensor, it is recommended to use sourceTensor.clone().detach() or sourceTensor.clone().detach().requires_grad_(True), rather than torch.tensor(sourceTensor).\n",
            "  self.labels = torch.tensor(labels)\n"
          ]
        }
      ],
      "source": [
        "# Converting texts to a uniform length for modeling\n",
        "def pad_sequences(texts, maxlen=100):\n",
        "    return np.array([np.pad(text, (0, maxlen - len(text)), mode='constant') if len(text) < maxlen else text[:maxlen] for text in texts])\n",
        "\n",
        "texts_padded = pad_sequences(texts)\n",
        "\n",
        "# Splitting the data into train and test sets\n",
        "from sklearn.model_selection import train_test_split\n",
        "train_texts, test_texts, train_labels, test_labels = train_test_split(texts_padded, labels, test_size=0.2, random_state=42)\n",
        "\n",
        "# Create Dataset instances\n",
        "train_dataset = HotelDataset(torch.tensor(train_texts, dtype=torch.long), torch.tensor(train_labels, dtype=torch.long))\n",
        "test_dataset = HotelDataset(torch.tensor(test_texts, dtype=torch.long), torch.tensor(test_labels, dtype=torch.long))\n",
        "\n",
        "# Create DataLoader instances\n",
        "train_loader = DataLoader(train_dataset, batch_size=64, shuffle=True)\n",
        "test_loader = DataLoader(test_dataset, batch_size=64, shuffle=False)\n",
        "\n",
        "# Use a custom collate function to pad text sequences\n",
        "def collate_batch(batch):\n",
        "    (texts, labels) = zip(*batch)\n",
        "    texts_padded = pad_sequence(texts, batch_first=True, padding_value=0)  # Padding value 0 for <PAD>\n",
        "    labels = torch.stack(labels)\n",
        "    return texts_padded, labels\n",
        "\n",
        "# When creating the DataLoader, specify the custom collate function\n",
        "train_loader = DataLoader(train_dataset, batch_size=64, shuffle=True, collate_fn=collate_batch)"
      ]
    },
    {
      "cell_type": "markdown",
      "metadata": {},
      "source": [
        "# Generating Hybrid Model :"
      ]
    },
    {
      "cell_type": "markdown",
      "metadata": {},
      "source": [
        "#### Tried with LSTM HybridModel :"
      ]
    },
    {
      "cell_type": "code",
      "execution_count": 69,
      "metadata": {},
      "outputs": [],
      "source": [
        "# class HybridHotelModel(nn.Module):\n",
        "#     def __init__(self, vocab_size, embedding_dim, hidden_dim, output_dim, num_layers, bidirectional, pretrained_embeddings=None):\n",
        "#         super(HybridHotelModel, self).__init__()\n",
        "#         self.embedding = nn.Embedding(vocab_size, embedding_dim)\n",
        "        \n",
        "#         if pretrained_embeddings is not None:\n",
        "#             self.embedding.weight = nn.Parameter(pretrained_embeddings)\n",
        "#             self.embedding.weight.requires_grad = True \n",
        "        \n",
        "#         self.lstm = nn.LSTM(embedding_dim, hidden_dim, num_layers=num_layers,\n",
        "#                             batch_first=True, bidirectional=bidirectional, dropout=0.5 if num_layers > 1 else 0)\n",
        "        \n",
        "#         self.dropout = nn.Dropout(0.5)\n",
        "        \n",
        "#         # Adjusting batch normalization input size to match LSTM output size\n",
        "#         self.batch_norm = nn.BatchNorm1d(hidden_dim * 2 if bidirectional else hidden_dim)\n",
        "        \n",
        "#         # Adding more fully connected layers for better representation learning\n",
        "#         self.fc1 = nn.Linear(hidden_dim * 2 if bidirectional else hidden_dim, 256)\n",
        "#         self.fc2 = nn.Linear(256, 128)\n",
        "#         self.fc3 = nn.Linear(128, output_dim)\n",
        "        \n",
        "#         self.relu = nn.ReLU()\n",
        "#         # Softmax activation for multi-class classification\n",
        "#         self.softmax = nn.Softmax(dim=1)  \n",
        "\n",
        "#     def forward(self, x):\n",
        "#         embedded = self.embedding(x)\n",
        "#         lstm_output, (lstm_hidden, _) = self.lstm(embedded)\n",
        "        \n",
        "#         # Concatenating forward and backward hidden states if bidirectional\n",
        "#         if lstm_hidden.shape[0] > 1:\n",
        "#             lstm_hidden = torch.cat((lstm_hidden[-2,:,:], lstm_hidden[-1,:,:]), dim=1)\n",
        "#         else:\n",
        "#             lstm_hidden = lstm_hidden[-1,:,:]\n",
        "\n",
        "#         lstm_hidden = self.dropout(lstm_hidden)\n",
        "#         lstm_hidden = self.batch_norm(lstm_hidden)\n",
        "        \n",
        "#         # Applying ReLU activation function after the first fully connected layer\n",
        "#         out = self.fc1(lstm_hidden)\n",
        "#         out = self.relu(out)\n",
        "        \n",
        "#         # Applying dropout before the second fully connected layer\n",
        "#         out = self.dropout(out)\n",
        "        \n",
        "#         out = self.fc2(out)\n",
        "#         out = self.relu(out)\n",
        "        \n",
        "#         # Applying dropout before the final fully connected layer\n",
        "#         out = self.dropout(out)\n",
        "        \n",
        "#         out = self.fc3(out)\n",
        "        \n",
        "#         # Appling softmax activation to get class probabilities\n",
        "#         out = self.softmax(out)  \n",
        "#         return out"
      ]
    },
    {
      "cell_type": "markdown",
      "metadata": {},
      "source": [
        "#### Tried with only GRU RNN Model : "
      ]
    },
    {
      "cell_type": "code",
      "execution_count": null,
      "metadata": {},
      "outputs": [],
      "source": [
        "# class GRUHotelModel(nn.Module):\n",
        "#     def __init__(self, vocab_size, embedding_dim, hidden_dim, output_dim, num_layers, bidirectional):\n",
        "#         super(GRUHotelModel, self).__init__()\n",
        "#         self.embedding = nn.Embedding(vocab_size, embedding_dim)\n",
        "#         self.gru = nn.GRU(embedding_dim, hidden_dim, num_layers=num_layers, \n",
        "#                           batch_first=True, bidirectional=bidirectional, dropout=0.5)\n",
        "#         self.dropout = nn.Dropout(0.5)\n",
        "#         self.fc = nn.Linear(hidden_dim * 2 if bidirectional else hidden_dim, output_dim)\n",
        "#         self.activation = nn.LogSoftmax(dim=1)\n",
        "\n",
        "#     def forward(self, x):\n",
        "#         x = self.embedding(x)\n",
        "#         x, _ = self.gru(x)\n",
        "#         x = self.dropout(x[:, -1])\n",
        "#         x = self.fc(x)\n",
        "#         return self.activation(x)"
      ]
    },
    {
      "cell_type": "markdown",
      "metadata": {},
      "source": [
        "#### Combination of both LSTM and GRU RNN Model :"
      ]
    },
    {
      "cell_type": "code",
      "execution_count": 29,
      "metadata": {},
      "outputs": [],
      "source": [
        "class HybridRNNModel(nn.Module):\n",
        "    def __init__(self, vocab_size, embedding_dim, hidden_dim, output_dim, num_layers, dropout=0.5, bidirectional=False):\n",
        "        super(HybridRNNModel, self).__init__()\n",
        "        self.embedding = nn.Embedding(vocab_size, embedding_dim)\n",
        "        self.lstm = nn.LSTM(embedding_dim, hidden_dim, num_layers=num_layers, batch_first=True, bidirectional=bidirectional)\n",
        "        self.gru = nn.GRU(hidden_dim * 2 if bidirectional else hidden_dim, hidden_dim, num_layers=num_layers, batch_first=True, bidirectional=bidirectional)\n",
        "        self.dropout = nn.Dropout(dropout)\n",
        "        self.fc = nn.Linear(hidden_dim * 2 if bidirectional else hidden_dim, output_dim)\n",
        "        self.activation = nn.LogSoftmax(dim=1)\n",
        "\n",
        "    def forward(self, x):\n",
        "        x = self.embedding(x)\n",
        "        x, (hidden, cell) = self.lstm(x)\n",
        "        x, hidden = self.gru(x)\n",
        "        x = self.dropout(x[:, -1])\n",
        "        x = self.fc(x)\n",
        "        return self.activation(x)"
      ]
    },
    {
      "cell_type": "code",
      "execution_count": 30,
      "metadata": {},
      "outputs": [],
      "source": [
        "# Determining the device to use 'cuda' (GPU), if not 'CPU'\n",
        "device = torch.device('cuda' if torch.cuda.is_available() else 'cpu')"
      ]
    },
    {
      "cell_type": "markdown",
      "metadata": {},
      "source": [
        "# Hyperparameter Tuning :"
      ]
    },
    {
      "cell_type": "markdown",
      "metadata": {},
      "source": [
        "### a) Manual tuning : "
      ]
    },
    {
      "cell_type": "code",
      "execution_count": null,
      "metadata": {},
      "outputs": [],
      "source": [
        "# # Fine-Tuning Hyperparameters\n",
        "\n",
        "# vocab_size = len(vocab)\n",
        "# embedding_dim = 300\n",
        "# hidden_dim = 256 #512\n",
        "# output_dim = 6  \n",
        "# num_layers = 2\n",
        "# bidirectional = True\n",
        "# pretrained_embeddings = None  \n",
        "\n",
        "# # Initializing the hybrid model with specified hyperparameters\n",
        "# hybrid_model = HybridHotelModel(vocab_size, embedding_dim, hidden_dim, output_dim, num_layers, bidirectional, pretrained_embeddings)\n",
        "\n",
        "# # Moving model to the device (GPU)\n",
        "# hybrid_model.to(device)\n",
        "\n",
        "# # Defining the loss function (Cross-Entropy Loss) and optimizer\n",
        "# criterion = nn.CrossEntropyLoss()  # Use CrossEntropyLoss for multi-class classification\n",
        "\n",
        "\n",
        "# # optimizer = optim.SGD(hybrid_model.parameters(), lr=0.01, momentum=0.9)\n",
        "# # optimizer = optim.SGD(hybrid_model.parameters(), lr=0.001, momentum=0.9)\n",
        "# # optimizer = optim.Adam(hybrid_model.parameters(), lr=0.001\n",
        "# # optimizer = optim.AdamW(hybrid_model.parameters(), lr=0.0001)\n",
        "\n",
        "# optimizer = optim.AdamW(hybrid_model.parameters(), lr=0.0001)"
      ]
    },
    {
      "cell_type": "markdown",
      "metadata": {},
      "source": [
        "### b) Automatic Hyperparameter Tuning :"
      ]
    },
    {
      "cell_type": "code",
      "execution_count": 31,
      "metadata": {},
      "outputs": [],
      "source": [
        "# Random samples for hyperparameter\n",
        "def sample_hyperparameters():\n",
        "    return {\n",
        "        'hidden_dim': random.choice([64, 128, 256]),\n",
        "        'num_layers': random.choice([1, 2, 3]),\n",
        "        'learning_rate': random.choice([0.01, 0.001, 0.0001]),\n",
        "        'dropout_rate': random.choice([0.1, 0.2, 0.5]),\n",
        "        'bidirectional': random.choice([True, False]),\n",
        "    }"
      ]
    },
    {
      "cell_type": "code",
      "execution_count": 34,
      "metadata": {},
      "outputs": [],
      "source": [
        "# Training and evaluating the model with provided hyperparameters\n",
        "def train_and_evaluate(hparams, train_loader, vocab_size, output_dim):\n",
        "    model = HybridRNNModel(vocab_size=vocab_size,\n",
        "                          embedding_dim=300,\n",
        "                          hidden_dim=hparams['hidden_dim'],\n",
        "                          output_dim=output_dim,\n",
        "                          num_layers=hparams['num_layers'],\n",
        "                          bidirectional=hparams['bidirectional']).to(device)\n",
        "    \n",
        "    optimizer = torch.optim.Adam(model.parameters(), lr=hparams['learning_rate'])\n",
        "    criterion = nn.NLLLoss()\n",
        "    \n",
        "    # Simplified training loop\n",
        "    for epoch in range(3):  # Limited epochs for quick demonstration\n",
        "        model.train()\n",
        "        for texts, labels in train_loader:\n",
        "            texts, labels = texts.to(device), labels.to(device)\n",
        "            optimizer.zero_grad()\n",
        "            outputs = model(texts)\n",
        "            loss = criterion(outputs, labels)\n",
        "            loss.backward()\n",
        "            optimizer.step()\n",
        "    return loss.item()"
      ]
    },
    {
      "cell_type": "code",
      "execution_count": 33,
      "metadata": {},
      "outputs": [
        {
          "name": "stdout",
          "output_type": "stream",
          "text": [
            "Loss: 1.408470869064331, Params: {'hidden_dim': 256, 'num_layers': 2, 'learning_rate': 0.001, 'dropout_rate': 0.2, 'bidirectional': False}\n",
            "Loss: 1.0099233388900757, Params: {'hidden_dim': 128, 'num_layers': 1, 'learning_rate': 0.001, 'dropout_rate': 0.2, 'bidirectional': True}\n",
            "Loss: 1.1672134399414062, Params: {'hidden_dim': 128, 'num_layers': 3, 'learning_rate': 0.001, 'dropout_rate': 0.2, 'bidirectional': False}\n",
            "Loss: 1.4657036066055298, Params: {'hidden_dim': 128, 'num_layers': 1, 'learning_rate': 0.0001, 'dropout_rate': 0.2, 'bidirectional': False}\n",
            "Loss: 1.2151992321014404, Params: {'hidden_dim': 256, 'num_layers': 3, 'learning_rate': 0.0001, 'dropout_rate': 0.1, 'bidirectional': True}\n",
            "Loss: 1.2054696083068848, Params: {'hidden_dim': 64, 'num_layers': 3, 'learning_rate': 0.001, 'dropout_rate': 0.1, 'bidirectional': True}\n",
            "Loss: 1.465735673904419, Params: {'hidden_dim': 256, 'num_layers': 2, 'learning_rate': 0.01, 'dropout_rate': 0.5, 'bidirectional': True}\n",
            "Loss: 1.5638072490692139, Params: {'hidden_dim': 256, 'num_layers': 2, 'learning_rate': 0.0001, 'dropout_rate': 0.5, 'bidirectional': False}\n",
            "Loss: 1.503273606300354, Params: {'hidden_dim': 128, 'num_layers': 1, 'learning_rate': 0.0001, 'dropout_rate': 0.1, 'bidirectional': True}\n",
            "Loss: 1.3820666074752808, Params: {'hidden_dim': 256, 'num_layers': 1, 'learning_rate': 0.0001, 'dropout_rate': 0.2, 'bidirectional': True}\n",
            "Best Loss: 1.0099233388900757, Best Hyperparameters: {'hidden_dim': 128, 'num_layers': 1, 'learning_rate': 0.001, 'dropout_rate': 0.2, 'bidirectional': True}\n"
          ]
        }
      ],
      "source": [
        "# Assuming the preparation of texts and labels has been done properly before this:\n",
        "train_dataset = HotelDataset(texts, labels)  \n",
        "train_loader = DataLoader(train_dataset, batch_size=64, shuffle=True, collate_fn=collate_batch)\n",
        "\n",
        "vocab_size = len(vocab) + 1  # '+1' accounts for potential padding token or out-of-vocabulary tokens\n",
        "output_dim = len(set(labels))  \n",
        "\n",
        "# # Running the hyperparameter tuning\n",
        "# best_loss = float('inf')\n",
        "# best_hparams = None\n",
        "\n",
        "# for _ in range(10):  \n",
        "#     hparams = sample_hyperparameters()\n",
        "#     loss = train_and_evaluate(hparams, train_loader, vocab_size, output_dim)\n",
        "#     print(f\"Loss: {loss}, Params: {hparams}\")\n",
        "#     if loss < best_loss:\n",
        "#         best_loss = loss\n",
        "#         best_hparams = hparams\n",
        "\n",
        "# print(f\"Best Loss: {best_loss}, Best Hyperparameters: {best_hparams}\")"
      ]
    },
    {
      "cell_type": "markdown",
      "metadata": {},
      "source": [
        "best_hparams = {\n",
        "    \"hidden_dim\": 128, \n",
        "    \"num_layers\": 2, \n",
        "    \"learning_rate\": 0.01,\n",
        "    \"dropout_rate\": 0.2, \n",
        "    \"bidirectional\": False\n",
        "}"
      ]
    },
    {
      "cell_type": "code",
      "execution_count": 35,
      "metadata": {},
      "outputs": [
        {
          "name": "stdout",
          "output_type": "stream",
          "text": [
            "Model instantiated with best hyperparameters.\n"
          ]
        }
      ],
      "source": [
        "if best_hparams:\n",
        "    # Creating the model with the best hyperparameters\n",
        "    model = HybridRNNModel(\n",
        "        vocab_size=len(vocab) + 1,  # Including +1 for <PAD> or <UNK> if not counted in `len(vocab)`\n",
        "        embedding_dim=300,  \n",
        "        hidden_dim=best_hparams['hidden_dim'],\n",
        "        output_dim=len(set(labels)),  \n",
        "        num_layers=best_hparams['num_layers'],\n",
        "        bidirectional=best_hparams['bidirectional']\n",
        "    ).to(device)\n",
        "    print(\"Model instantiated with best hyperparameters.\")\n",
        "else:\n",
        "    print(\"Failed to instantiate model: No valid hyperparameters found.\")"
      ]
    },
    {
      "cell_type": "code",
      "execution_count": 36,
      "metadata": {},
      "outputs": [],
      "source": [
        "# Defining the loss function (Cross-Entropy Loss) and optimizer\n",
        "criterion = nn.NLLLoss()\n",
        "optimizer = torch.optim.Adam(model.parameters(), lr=best_hparams['learning_rate'])"
      ]
    },
    {
      "cell_type": "markdown",
      "metadata": {},
      "source": [
        "# Training the Model :"
      ]
    },
    {
      "cell_type": "code",
      "execution_count": 37,
      "metadata": {},
      "outputs": [
        {
          "name": "stderr",
          "output_type": "stream",
          "text": [
            "Epoch 1: 100%|██████████| 313/313 [02:11<00:00,  2.37it/s]\n"
          ]
        },
        {
          "name": "stdout",
          "output_type": "stream",
          "text": [
            "Epoch 1: Loss: 1.4652, Accuracy: 0.3668\n"
          ]
        },
        {
          "name": "stderr",
          "output_type": "stream",
          "text": [
            "Epoch 2: 100%|██████████| 313/313 [02:13<00:00,  2.35it/s]\n"
          ]
        },
        {
          "name": "stdout",
          "output_type": "stream",
          "text": [
            "Epoch 2: Loss: 1.3013, Accuracy: 0.5314\n"
          ]
        },
        {
          "name": "stderr",
          "output_type": "stream",
          "text": [
            "Epoch 3: 100%|██████████| 313/313 [02:15<00:00,  2.31it/s]\n"
          ]
        },
        {
          "name": "stdout",
          "output_type": "stream",
          "text": [
            "Epoch 3: Loss: 1.2123, Accuracy: 0.5490\n"
          ]
        },
        {
          "name": "stderr",
          "output_type": "stream",
          "text": [
            "Epoch 4: 100%|██████████| 313/313 [02:14<00:00,  2.33it/s]\n"
          ]
        },
        {
          "name": "stdout",
          "output_type": "stream",
          "text": [
            "Epoch 4: Loss: 1.1121, Accuracy: 0.5895\n"
          ]
        },
        {
          "name": "stderr",
          "output_type": "stream",
          "text": [
            "Epoch 5: 100%|██████████| 313/313 [02:15<00:00,  2.31it/s]\n"
          ]
        },
        {
          "name": "stdout",
          "output_type": "stream",
          "text": [
            "Epoch 5: Loss: 1.0481, Accuracy: 0.6226\n"
          ]
        },
        {
          "name": "stderr",
          "output_type": "stream",
          "text": [
            "Epoch 6: 100%|██████████| 313/313 [02:18<00:00,  2.26it/s]\n"
          ]
        },
        {
          "name": "stdout",
          "output_type": "stream",
          "text": [
            "Epoch 6: Loss: 0.9886, Accuracy: 0.6448\n"
          ]
        },
        {
          "name": "stderr",
          "output_type": "stream",
          "text": [
            "Epoch 7: 100%|██████████| 313/313 [02:19<00:00,  2.25it/s]\n"
          ]
        },
        {
          "name": "stdout",
          "output_type": "stream",
          "text": [
            "Epoch 7: Loss: 0.9319, Accuracy: 0.6692\n"
          ]
        },
        {
          "name": "stderr",
          "output_type": "stream",
          "text": [
            "Epoch 8: 100%|██████████| 313/313 [02:18<00:00,  2.25it/s]\n"
          ]
        },
        {
          "name": "stdout",
          "output_type": "stream",
          "text": [
            "Epoch 8: Loss: 0.8623, Accuracy: 0.6979\n"
          ]
        },
        {
          "name": "stderr",
          "output_type": "stream",
          "text": [
            "Epoch 9: 100%|██████████| 313/313 [02:20<00:00,  2.23it/s]\n"
          ]
        },
        {
          "name": "stdout",
          "output_type": "stream",
          "text": [
            "Epoch 9: Loss: 0.7981, Accuracy: 0.7250\n"
          ]
        },
        {
          "name": "stderr",
          "output_type": "stream",
          "text": [
            "Epoch 10: 100%|██████████| 313/313 [02:19<00:00,  2.25it/s]\n"
          ]
        },
        {
          "name": "stdout",
          "output_type": "stream",
          "text": [
            "Epoch 10: Loss: 0.7309, Accuracy: 0.7479\n"
          ]
        },
        {
          "name": "stderr",
          "output_type": "stream",
          "text": [
            "Epoch 11: 100%|██████████| 313/313 [02:18<00:00,  2.25it/s]\n"
          ]
        },
        {
          "name": "stdout",
          "output_type": "stream",
          "text": [
            "Epoch 11: Loss: 0.6682, Accuracy: 0.7734\n"
          ]
        },
        {
          "name": "stderr",
          "output_type": "stream",
          "text": [
            "Epoch 12: 100%|██████████| 313/313 [02:18<00:00,  2.27it/s]\n"
          ]
        },
        {
          "name": "stdout",
          "output_type": "stream",
          "text": [
            "Epoch 12: Loss: 0.6102, Accuracy: 0.7978\n"
          ]
        },
        {
          "name": "stderr",
          "output_type": "stream",
          "text": [
            "Epoch 13: 100%|██████████| 313/313 [02:18<00:00,  2.26it/s]\n"
          ]
        },
        {
          "name": "stdout",
          "output_type": "stream",
          "text": [
            "Epoch 13: Loss: 0.5565, Accuracy: 0.8151\n"
          ]
        },
        {
          "name": "stderr",
          "output_type": "stream",
          "text": [
            "Epoch 14: 100%|██████████| 313/313 [02:18<00:00,  2.26it/s]\n"
          ]
        },
        {
          "name": "stdout",
          "output_type": "stream",
          "text": [
            "Epoch 14: Loss: 0.5054, Accuracy: 0.8356\n"
          ]
        },
        {
          "name": "stderr",
          "output_type": "stream",
          "text": [
            "Epoch 15: 100%|██████████| 313/313 [02:19<00:00,  2.25it/s]\n"
          ]
        },
        {
          "name": "stdout",
          "output_type": "stream",
          "text": [
            "Epoch 15: Loss: 0.4646, Accuracy: 0.8509\n"
          ]
        },
        {
          "name": "stderr",
          "output_type": "stream",
          "text": [
            "Epoch 16: 100%|██████████| 313/313 [02:18<00:00,  2.25it/s]\n"
          ]
        },
        {
          "name": "stdout",
          "output_type": "stream",
          "text": [
            "Epoch 16: Loss: 0.4347, Accuracy: 0.8607\n"
          ]
        },
        {
          "name": "stderr",
          "output_type": "stream",
          "text": [
            "Epoch 17: 100%|██████████| 313/313 [02:16<00:00,  2.29it/s]\n"
          ]
        },
        {
          "name": "stdout",
          "output_type": "stream",
          "text": [
            "Epoch 17: Loss: 0.4017, Accuracy: 0.8738\n"
          ]
        },
        {
          "name": "stderr",
          "output_type": "stream",
          "text": [
            "Epoch 18: 100%|██████████| 313/313 [02:18<00:00,  2.25it/s]\n"
          ]
        },
        {
          "name": "stdout",
          "output_type": "stream",
          "text": [
            "Epoch 18: Loss: 0.3638, Accuracy: 0.8844\n"
          ]
        },
        {
          "name": "stderr",
          "output_type": "stream",
          "text": [
            "Epoch 19: 100%|██████████| 313/313 [02:19<00:00,  2.24it/s]\n"
          ]
        },
        {
          "name": "stdout",
          "output_type": "stream",
          "text": [
            "Epoch 19: Loss: 0.3493, Accuracy: 0.8900\n"
          ]
        },
        {
          "name": "stderr",
          "output_type": "stream",
          "text": [
            "Epoch 20: 100%|██████████| 313/313 [02:21<00:00,  2.22it/s]\n"
          ]
        },
        {
          "name": "stdout",
          "output_type": "stream",
          "text": [
            "Epoch 20: Loss: 0.3280, Accuracy: 0.8982\n"
          ]
        },
        {
          "name": "stderr",
          "output_type": "stream",
          "text": [
            "Epoch 21: 100%|██████████| 313/313 [02:19<00:00,  2.25it/s]\n"
          ]
        },
        {
          "name": "stdout",
          "output_type": "stream",
          "text": [
            "Epoch 21: Loss: 0.3018, Accuracy: 0.9047\n"
          ]
        },
        {
          "name": "stderr",
          "output_type": "stream",
          "text": [
            "Epoch 22: 100%|██████████| 313/313 [02:19<00:00,  2.24it/s]\n"
          ]
        },
        {
          "name": "stdout",
          "output_type": "stream",
          "text": [
            "Epoch 22: Loss: 0.2919, Accuracy: 0.9083\n"
          ]
        },
        {
          "name": "stderr",
          "output_type": "stream",
          "text": [
            "Epoch 23: 100%|██████████| 313/313 [02:20<00:00,  2.23it/s]\n"
          ]
        },
        {
          "name": "stdout",
          "output_type": "stream",
          "text": [
            "Epoch 23: Loss: 0.2775, Accuracy: 0.9135\n"
          ]
        },
        {
          "name": "stderr",
          "output_type": "stream",
          "text": [
            "Epoch 24: 100%|██████████| 313/313 [02:19<00:00,  2.24it/s]\n"
          ]
        },
        {
          "name": "stdout",
          "output_type": "stream",
          "text": [
            "Epoch 24: Loss: 0.2728, Accuracy: 0.9152\n"
          ]
        },
        {
          "name": "stderr",
          "output_type": "stream",
          "text": [
            "Epoch 25: 100%|██████████| 313/313 [02:17<00:00,  2.28it/s]\n"
          ]
        },
        {
          "name": "stdout",
          "output_type": "stream",
          "text": [
            "Epoch 25: Loss: 0.2585, Accuracy: 0.9207\n"
          ]
        },
        {
          "name": "stderr",
          "output_type": "stream",
          "text": [
            "Epoch 26: 100%|██████████| 313/313 [02:13<00:00,  2.34it/s]\n"
          ]
        },
        {
          "name": "stdout",
          "output_type": "stream",
          "text": [
            "Epoch 26: Loss: 0.2591, Accuracy: 0.9183\n"
          ]
        },
        {
          "name": "stderr",
          "output_type": "stream",
          "text": [
            "Epoch 27: 100%|██████████| 313/313 [02:13<00:00,  2.35it/s]\n"
          ]
        },
        {
          "name": "stdout",
          "output_type": "stream",
          "text": [
            "Epoch 27: Loss: 0.2495, Accuracy: 0.9228\n"
          ]
        },
        {
          "name": "stderr",
          "output_type": "stream",
          "text": [
            "Epoch 28: 100%|██████████| 313/313 [02:09<00:00,  2.41it/s]\n"
          ]
        },
        {
          "name": "stdout",
          "output_type": "stream",
          "text": [
            "Epoch 28: Loss: 0.2306, Accuracy: 0.9295\n"
          ]
        },
        {
          "name": "stderr",
          "output_type": "stream",
          "text": [
            "Epoch 29: 100%|██████████| 313/313 [02:14<00:00,  2.33it/s]\n"
          ]
        },
        {
          "name": "stdout",
          "output_type": "stream",
          "text": [
            "Epoch 29: Loss: 0.2429, Accuracy: 0.9244\n"
          ]
        },
        {
          "name": "stderr",
          "output_type": "stream",
          "text": [
            "Epoch 30: 100%|██████████| 313/313 [02:20<00:00,  2.22it/s]"
          ]
        },
        {
          "name": "stdout",
          "output_type": "stream",
          "text": [
            "Epoch 30: Loss: 0.2262, Accuracy: 0.9295\n"
          ]
        },
        {
          "name": "stderr",
          "output_type": "stream",
          "text": [
            "\n"
          ]
        }
      ],
      "source": [
        "# Training the model with given train_loader, criterion and optimizer \n",
        "def train_model(model, train_loader, criterion, optimizer, num_epochs=30):\n",
        "    train_losses = []  \n",
        "    train_accuracies = []  \n",
        "    model.train()\n",
        "\n",
        "    for epoch in range(num_epochs):\n",
        "        total_loss = 0\n",
        "        correct_predictions = 0\n",
        "        total_predictions = 0\n",
        "\n",
        "        for texts, labels in tqdm(train_loader, desc=f\"Epoch {epoch+1}\"):\n",
        "            texts, labels = texts.to(device), labels.to(device)\n",
        "            optimizer.zero_grad()\n",
        "            outputs = model(texts)\n",
        "            loss = criterion(outputs, labels)\n",
        "            loss.backward()\n",
        "            optimizer.step()\n",
        "\n",
        "            total_loss += loss.item()\n",
        "            _, predicted = torch.max(outputs, 1)\n",
        "            correct_predictions += (predicted == labels).sum().item()\n",
        "            total_predictions += labels.size(0)\n",
        "\n",
        "        epoch_loss = total_loss / len(train_loader)\n",
        "        epoch_accuracy = correct_predictions / total_predictions\n",
        "        train_losses.append(epoch_loss)\n",
        "        train_accuracies.append(epoch_accuracy)\n",
        "        print(f\"Epoch {epoch+1}: Loss: {epoch_loss:.4f}, Accuracy: {epoch_accuracy:.4f}\")\n",
        "    \n",
        "    return train_losses, train_accuracies\n",
        "\n",
        "# Train the model and capture training losses and accuracies\n",
        "train_losses, train_accuracies = train_model(model, train_loader, criterion, optimizer, num_epochs=30)"
      ]
    },
    {
      "cell_type": "code",
      "execution_count": 38,
      "metadata": {},
      "outputs": [
        {
          "data": {
            "image/png": "[encoded data removed]",
            "text/plain": [
              "<Figure size 1000x500 with 1 Axes>"
            ]
          },
          "metadata": {},
          "output_type": "display_data"
        }
      ],
      "source": [
        "# Plotting Training Accuracy\n",
        "plt.figure(figsize=(10, 5))\n",
        "plt.plot(range(1, len(train_accuracies) + 1), train_accuracies, 'o-', color=\"b\", label='Training Accuracy')\n",
        "plt.title('Training Accuracy per Epoch')\n",
        "plt.xlabel('Epoch')\n",
        "plt.ylabel('Accuracy')\n",
        "plt.legend()\n",
        "plt.grid(True)\n",
        "plt.show()"
      ]
    },
    {
      "cell_type": "code",
      "execution_count": 39,
      "metadata": {},
      "outputs": [
        {
          "data": {
            "image/png": "[encoded data removed]",
            "text/plain": [
              "<Figure size 1000x500 with 1 Axes>"
            ]
          },
          "metadata": {},
          "output_type": "display_data"
        }
      ],
      "source": [
        "# Plotting Training Loss\n",
        "plt.figure(figsize=(10, 5))\n",
        "plt.plot(range(1, len(train_losses) + 1), train_losses, 'o-', color=\"r\", label='Training Loss')\n",
        "plt.title('Training Loss per Epoch')\n",
        "plt.xlabel('Epoch')\n",
        "plt.ylabel('Loss')\n",
        "plt.legend()\n",
        "plt.grid(True)\n",
        "plt.show()"
      ]
    },
    {
      "cell_type": "markdown",
      "metadata": {},
      "source": [
        "# Model saving :"
      ]
    },
    {
      "cell_type": "code",
      "execution_count": 43,
      "metadata": {},
      "outputs": [],
      "source": [
        "# Saving the model \n",
        "torch.save(model.state_dict(), 'hotelhybrid_model.pth')"
      ]
    },
    {
      "cell_type": "markdown",
      "metadata": {},
      "source": [
        "# Model Evaluation (With Test Dataset):"
      ]
    },
    {
      "cell_type": "code",
      "execution_count": 44,
      "metadata": {},
      "outputs": [
        {
          "name": "stderr",
          "output_type": "stream",
          "text": [
            "Evaluating: 100%|██████████| 63/63 [00:04<00:00, 12.92it/s]"
          ]
        },
        {
          "name": "stdout",
          "output_type": "stream",
          "text": [
            "Test Loss: 0.4029, Test Accuracy: 0.8638\n"
          ]
        },
        {
          "name": "stderr",
          "output_type": "stream",
          "text": [
            "\n"
          ]
        }
      ],
      "source": [
        "def evaluate_model(model, test_loader):\n",
        "    model.eval()\n",
        "    all_predictions = []\n",
        "    all_labels = []\n",
        "    total_loss = 0\n",
        "\n",
        "    with torch.no_grad():\n",
        "        for texts, labels in tqdm(test_loader, desc=\"Evaluating\"):\n",
        "            texts, labels = texts.to(device), labels.to(device)\n",
        "            outputs = model(texts)\n",
        "            loss = criterion(outputs, labels)\n",
        "            total_loss += loss.item()\n",
        "\n",
        "            _, predicted = torch.max(outputs, 1)\n",
        "            all_predictions.extend(predicted.cpu().numpy())\n",
        "            all_labels.extend(labels.cpu().numpy())\n",
        "\n",
        "    test_loss = total_loss / len(test_loader)\n",
        "    test_accuracy = (np.array(all_predictions) == np.array(all_labels)).mean()\n",
        "    print(f\"Test Loss: {test_loss:.4f}, Test Accuracy: {test_accuracy:.4f}\")\n",
        "    return all_labels, all_predictions\n",
        "\n",
        "# Evaluate the model and get labels and predictions\n",
        "actual_labels, predicted_labels = evaluate_model(model, test_loader)"
      ]
    },
    {
      "cell_type": "code",
      "execution_count": 45,
      "metadata": {},
      "outputs": [
        {
          "data": {
            "image/png": "[encoded data removed]",
            "text/plain": [
              "<Figure size 1000x700 with 2 Axes>"
            ]
          },
          "metadata": {},
          "output_type": "display_data"
        }
      ],
      "source": [
        "def plot_confusion_matrix(actual_labels, predicted_labels, classes):\n",
        "    cm = confusion_matrix(actual_labels, predicted_labels)\n",
        "    plt.figure(figsize=(10, 7))\n",
        "    sns.heatmap(cm, annot=True, fmt='d', cmap='Blues', xticklabels=classes, yticklabels=classes)\n",
        "    plt.xlabel('Predicted Labels')\n",
        "    plt.ylabel('True Labels')\n",
        "    plt.title('Confusion Matrix')\n",
        "    plt.show()\n",
        "\n",
        "# Assuming you have label_encoder used to encode labels, you can use its classes_ attribute for class names\n",
        "class_names = label_encoder.classes_  # This should be defined where you fit your LabelEncoder\n",
        "plot_confusion_matrix(actual_labels, predicted_labels, class_names)"
      ]
    },
    {
      "cell_type": "markdown",
      "metadata": {},
      "source": [
        "# Predicting with the same data from the dataset : "
      ]
    },
    {
      "cell_type": "code",
      "execution_count": 57,
      "metadata": {},
      "outputs": [],
      "source": [
        "def tokenizer(text):\n",
        "    # Tokenizes the text into a list of tokens\n",
        "    doc = nlp(text.lower())\n",
        "    return [token.text for token in doc if not token.is_punct and not token.is_space]\n",
        "\n",
        "def preprocess_text(text):\n",
        "    return tokenizer(text)\n",
        "\n",
        "def predict(text, model, vocab):\n",
        "    model.eval()\n",
        "    processed_text = preprocess_text(text)\n",
        "    input_tensor = encode_and_pad(processed_text, vocab)  # Ensure this function exists and works\n",
        "    input_tensor = input_tensor.to(device)\n",
        "\n",
        "    with torch.no_grad():\n",
        "        output = model(input_tensor)\n",
        "        probabilities = torch.nn.functional.softmax(output, dim=1)\n",
        "        prediction = torch.argmax(probabilities, dim=1)\n",
        "\n",
        "    return prediction.item(), probabilities.squeeze()  # Remove batch dimension for single example\n",
        "\n",
        "def encode_and_pad(processed_text, vocab, max_length=100):\n",
        "    # Ensure each token in processed_text has a corresponding index in vocab\n",
        "    encoded = [vocab.get(token, vocab.get(\"<UNK>\", 0)) for token in processed_text]  # Use vocab.get(\"<UNK>\", 0) for unknown tokens\n",
        "    # Pad the sequence\n",
        "    if len(encoded) < max_length:\n",
        "        encoded += [vocab.get(\"<PAD>\", 0)] * (max_length - len(encoded))\n",
        "    else:\n",
        "        encoded = encoded[:max_length]\n",
        "    return torch.tensor([encoded], dtype=torch.long)  # Adding batch dimension"
      ]
    },
    {
      "cell_type": "code",
      "execution_count": 58,
      "metadata": {},
      "outputs": [
        {
          "name": "stdout",
          "output_type": "stream",
          "text": [
            "Predicted Rating: ThreeStar\n",
            "Probabilities: tensor([1.8584e-03, 1.6141e-03, 6.2874e-02, 1.2721e-04, 9.3184e-01, 1.6862e-03])\n"
          ]
        }
      ],
      "source": [
        "sample_text = \"Hotel with swimming pool, buffet breakfast, gym and car parking\"\n",
        "prediction, probabilities = predict(sample_text, model, vocab)\n",
        "predicted_rating = rating_mapping[prediction]\n",
        "\n",
        "print(f\"Predicted Rating: {predicted_rating}\")\n",
        "print(f\"Probabilities: {probabilities}\")"
      ]
    },
    {
      "cell_type": "markdown",
      "metadata": {},
      "source": [
        "# Predicting the model with unseen manually entered data :"
      ]
    },
    {
      "cell_type": "code",
      "execution_count": 59,
      "metadata": {},
      "outputs": [
        {
          "name": "stdout",
          "output_type": "stream",
          "text": [
            "Predicted Rating: ThreeStar with confidence 99.80%\n"
          ]
        }
      ],
      "source": [
        "def preprocess_text(text):\n",
        "    \"\"\"Tokenizes text using the loaded spaCy model and returns non-punctuated tokens.\"\"\"\n",
        "    return [token.text for token in nlp(text.lower()) if not token.is_punct and not token.is_space]\n",
        "\n",
        "def encode_and_pad(processed_text, vocab, max_length=100):\n",
        "    \"\"\"Encodes and pads the processed text according to the vocabulary and maximum length.\"\"\"\n",
        "    encoded = [vocab.get(token, vocab.get(\"<UNK>\", 0)) for token in processed_text]  # Use vocab.get(\"<UNK>\", 0) for unknown tokens\n",
        "    padded = encoded + [vocab.get(\"<PAD>\", 0)] * (max_length - len(encoded)) if len(encoded) < max_length else encoded[:max_length]\n",
        "    return torch.tensor([padded], dtype=torch.long)  # Adding batch dimension for model input\n",
        "\n",
        "def predict_rating(description, facility, model, vocab):\n",
        "    \"\"\"Predicts the rating based on provided description and facility.\"\"\"\n",
        "    combined_text = description + \" \" + facility  # Combine description and facility into one string\n",
        "    processed_text = preprocess_text(combined_text)  # Process the text through the same pipeline as during training\n",
        "    input_tensor = encode_and_pad(processed_text, vocab, max_length=100)  # Ensure to match the max_length used in training\n",
        "    input_tensor = input_tensor.to(device)\n",
        "\n",
        "    model.eval()  # Set model to evaluation mode\n",
        "    with torch.no_grad():\n",
        "        output = model(input_tensor)\n",
        "        probabilities = torch.nn.functional.softmax(output, dim=1)\n",
        "        prediction = torch.argmax(probabilities, dim=1)\n",
        "\n",
        "    predicted_rating = rating_mapping[prediction.item()]  # Map the numeric prediction back to the label\n",
        "    confidence = probabilities[0][prediction.item()].item()  # Get the probability of the predicted class\n",
        "    return predicted_rating, confidence\n",
        "\n",
        "# Example Usage:\n",
        "description = \"Hotel offers a luxurious escape in the heart of the city, blending modern amenities with charming, sophisticated decor. Its 200 elegantly furnished rooms provide breathtaking views of the urban skyline, making it a perfect retreat for both leisure and business travelers.\"\n",
        "facility = \"The hotel boasts a range of high-end amenities including multiple gourmet restaurants, a rooftop garden, a comprehensive spa, and elegant ballrooms. The guest rooms and suites are sumptuously appointed with fine furnishings and state-of-the-art technology, ensuring a comfortable and lavish stay.\"\n",
        "predicted_rating, confidence = predict_rating(description, facility, model, vocab)\n",
        "print(f\"Predicted Rating: {predicted_rating} with confidence {confidence:.2%}\")"
      ]
    },
    {
      "cell_type": "code",
      "execution_count": 70,
      "metadata": {},
      "outputs": [
        {
          "name": "stdout",
          "output_type": "stream",
          "text": [
            "Layers           Output Shape\n",
            "---------------  -------------------------\n",
            "Input            torch.Size([1, 100])\n",
            "Embedding        torch.Size([1, 100, 300])\n",
            "LSTM             torch.Size([1, 100, 256])\n",
            "GRU              torch.Size([1, 100, 256])\n",
            "Dropout          torch.Size([1, 256])\n",
            "Fully Connected  torch.Size([1, 5])\n",
            "LogSoftmax       torch.Size([1, 5])\n"
          ]
        }
      ],
      "source": [
        "# Printing Model Summary \n",
        "class HybridRNNModel(nn.Module):\n",
        "    def __init__(self, vocab_size, embedding_dim, hidden_dim, output_dim, num_layers, dropout=0.5, bidirectional=False):\n",
        "        super(HybridRNNModel, self).__init__()\n",
        "        self.embedding = nn.Embedding(vocab_size, embedding_dim)\n",
        "        self.lstm = nn.LSTM(embedding_dim, hidden_dim, num_layers=num_layers, batch_first=True, bidirectional=bidirectional)\n",
        "        self.gru = nn.GRU(hidden_dim * 2 if bidirectional else hidden_dim, hidden_dim, num_layers=num_layers, batch_first=True, bidirectional=bidirectional)\n",
        "        self.dropout = nn.Dropout(dropout)\n",
        "        self.fc = nn.Linear(hidden_dim * 2 if bidirectional else hidden_dim, output_dim)\n",
        "        self.activation = nn.LogSoftmax(dim=1)\n",
        "\n",
        "    def forward(self, x):\n",
        "        outputs = []\n",
        "        outputs.append([\"Input\", x.shape])\n",
        "        x = self.embedding(x)\n",
        "        outputs.append([\"Embedding\", x.shape])\n",
        "        x, (hidden, cell) = self.lstm(x)\n",
        "        outputs.append([\"LSTM\", x.shape])\n",
        "        x, hidden = self.gru(x)\n",
        "        outputs.append([\"GRU\", x.shape])\n",
        "        x = self.dropout(x[:, -1])\n",
        "        outputs.append([\"Dropout\", x.shape])\n",
        "        x = self.fc(x)\n",
        "        outputs.append([\"Fully Connected\", x.shape])\n",
        "        x = self.activation(x)\n",
        "        outputs.append([\"LogSoftmax\", x.shape])\n",
        "        return outputs\n",
        "\n",
        "# Model parameters\n",
        "vocab_size = 1000\n",
        "embedding_dim = 300\n",
        "hidden_dim = 128\n",
        "output_dim = 5\n",
        "num_layers = 2\n",
        "bidirectional = True\n",
        "\n",
        "# Initialize the model\n",
        "model = HybridRNNModel(vocab_size, embedding_dim, hidden_dim, output_dim, num_layers, bidirectional=bidirectional)\n",
        "model.to('cpu')  # Switch to 'cuda' if GPU is available\n",
        "\n",
        "# Dummy input for testing\n",
        "dummy_input = torch.randint(0, vocab_size, (1, 100), dtype=torch.long)\n",
        "\n",
        "# Generate model outputs\n",
        "model_outputs = model(dummy_input)\n",
        "\n",
        "# Print using tabulate\n",
        "print(tabulate(model_outputs, headers=[\"Layers\", \"Output Shape\"]))"
      ]
    },
    {
      "cell_type": "code",
      "execution_count": null,
      "metadata": {},
      "outputs": [],
      "source": []
    }
  ],
  "metadata": {
    "colab": {
      "provenance": []
    },
    "kernelspec": {
      "display_name": "Python 3",
      "name": "python3"
    },
    "language_info": {
      "codemirror_mode": {
        "name": "ipython",
        "version": 3
      },
      "file_extension": ".py",
      "mimetype": "text/x-python",
      "name": "python",
      "nbconvert_exporter": "python",
      "pygments_lexer": "ipython3",
      "version": "3.12.1"
    }
  },
  "nbformat": 4,
  "nbformat_minor": 0
}
